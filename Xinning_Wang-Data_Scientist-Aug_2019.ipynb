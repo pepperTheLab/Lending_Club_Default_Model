{
 "cells": [
  {
   "cell_type": "markdown",
   "metadata": {},
   "source": [
    "# Xinning_Wang-Data_Scientist-Aug_2019"
   ]
  },
  {
   "cell_type": "code",
   "execution_count": 5,
   "metadata": {},
   "outputs": [],
   "source": [
    "df[:200000].to_csv('LC_Data_1.csv', index=False)\n",
    "df2 = df[200000:400000].reset_index(drop=True)\n",
    "df2.to_csv('LC_Data_2.csv', index=False)\n",
    "df3 = df[400000:].reset_index(drop=True)\n",
    "df3.to_csv('LC_Data_3.csv', index=False)"
   ]
  },
  {
   "cell_type": "markdown",
   "metadata": {},
   "source": [
    "## Data Overview"
   ]
  },
  {
   "cell_type": "markdown",
   "metadata": {},
   "source": [
    "#### Import packages needed"
   ]
  },
  {
   "cell_type": "code",
   "execution_count": 1,
   "metadata": {},
   "outputs": [],
   "source": [
    "import pandas as pd\n",
    "import numpy as np\n",
    "import seaborn as sns\n",
    "import xgboost as xgb\n",
    "import matplotlib.pyplot as plt\n",
    "from scipy.stats import pearsonr\n",
    "from sklearn.linear_model import LogisticRegression\n",
    "from sklearn.model_selection import train_test_split, KFold\n",
    "from sklearn.metrics import precision_score, accuracy_score, recall_score, f1_score, roc_auc_score\n",
    "from sklearn.metrics import roc_curve, auc, log_loss"
   ]
  },
  {
   "cell_type": "code",
   "execution_count": 52,
   "metadata": {},
   "outputs": [],
   "source": [
    "pd.set_option('display.max_columns', 500)"
   ]
  },
  {
   "cell_type": "markdown",
   "metadata": {},
   "source": [
    "#### Read in data"
   ]
  },
  {
   "cell_type": "code",
   "execution_count": 6,
   "metadata": {},
   "outputs": [],
   "source": [
    "df1 = pd.read_csv('LC_Data_1.csv', low_memory=False)\n",
    "df2 = pd.read_csv('LC_Data_2.csv', low_memory=False)\n",
    "df3 = pd.read_csv('LC_Data_3.csv', low_memory=False)\n",
    "df = pd.concat([df1, df2, df3], sort=False)\n",
    "df.reset_index(inplace=True, drop=True)"
   ]
  },
  {
   "cell_type": "code",
   "execution_count": 7,
   "metadata": {
    "scrolled": true
   },
   "outputs": [
    {
     "data": {
      "text/html": [
       "<div>\n",
       "<style scoped>\n",
       "    .dataframe tbody tr th:only-of-type {\n",
       "        vertical-align: middle;\n",
       "    }\n",
       "\n",
       "    .dataframe tbody tr th {\n",
       "        vertical-align: top;\n",
       "    }\n",
       "\n",
       "    .dataframe thead th {\n",
       "        text-align: right;\n",
       "    }\n",
       "</style>\n",
       "<table border=\"1\" class=\"dataframe\">\n",
       "  <thead>\n",
       "    <tr style=\"text-align: right;\">\n",
       "      <th></th>\n",
       "      <th>acc_now_delinq</th>\n",
       "      <th>acc_open_past_24mths</th>\n",
       "      <th>addr_state</th>\n",
       "      <th>all_util</th>\n",
       "      <th>annual_inc</th>\n",
       "      <th>annual_inc_joint</th>\n",
       "      <th>application_type</th>\n",
       "      <th>avg_cur_bal</th>\n",
       "      <th>bc_open_to_buy</th>\n",
       "      <th>bc_util</th>\n",
       "      <th>...</th>\n",
       "      <th>sec_app_earliest_cr_line</th>\n",
       "      <th>sec_app_inq_last_6mths</th>\n",
       "      <th>sec_app_mort_acc</th>\n",
       "      <th>sec_app_open_acc</th>\n",
       "      <th>sec_app_revol_util</th>\n",
       "      <th>sec_app_open_act_il</th>\n",
       "      <th>sec_app_num_rev_accts</th>\n",
       "      <th>sec_app_chargeoff_within_12_mths</th>\n",
       "      <th>sec_app_collections_12_mths_ex_med</th>\n",
       "      <th>sec_app_mths_since_last_major_derog</th>\n",
       "    </tr>\n",
       "  </thead>\n",
       "  <tbody>\n",
       "    <tr>\n",
       "      <th>0</th>\n",
       "      <td>0.0</td>\n",
       "      <td>8.0</td>\n",
       "      <td>KS</td>\n",
       "      <td>42.0</td>\n",
       "      <td>65000.0</td>\n",
       "      <td>NaN</td>\n",
       "      <td>Individual</td>\n",
       "      <td>10086.0</td>\n",
       "      <td>41055.0</td>\n",
       "      <td>17.1</td>\n",
       "      <td>...</td>\n",
       "      <td>NaN</td>\n",
       "      <td>NaN</td>\n",
       "      <td>NaN</td>\n",
       "      <td>NaN</td>\n",
       "      <td>NaN</td>\n",
       "      <td>NaN</td>\n",
       "      <td>NaN</td>\n",
       "      <td>NaN</td>\n",
       "      <td>NaN</td>\n",
       "      <td>NaN</td>\n",
       "    </tr>\n",
       "    <tr>\n",
       "      <th>1</th>\n",
       "      <td>0.0</td>\n",
       "      <td>1.0</td>\n",
       "      <td>VT</td>\n",
       "      <td>34.0</td>\n",
       "      <td>150000.0</td>\n",
       "      <td>NaN</td>\n",
       "      <td>Individual</td>\n",
       "      <td>61551.0</td>\n",
       "      <td>24661.0</td>\n",
       "      <td>44.0</td>\n",
       "      <td>...</td>\n",
       "      <td>NaN</td>\n",
       "      <td>NaN</td>\n",
       "      <td>NaN</td>\n",
       "      <td>NaN</td>\n",
       "      <td>NaN</td>\n",
       "      <td>NaN</td>\n",
       "      <td>NaN</td>\n",
       "      <td>NaN</td>\n",
       "      <td>NaN</td>\n",
       "      <td>NaN</td>\n",
       "    </tr>\n",
       "    <tr>\n",
       "      <th>2</th>\n",
       "      <td>0.0</td>\n",
       "      <td>8.0</td>\n",
       "      <td>IN</td>\n",
       "      <td>50.0</td>\n",
       "      <td>75000.0</td>\n",
       "      <td>NaN</td>\n",
       "      <td>Individual</td>\n",
       "      <td>7176.0</td>\n",
       "      <td>23476.0</td>\n",
       "      <td>59.9</td>\n",
       "      <td>...</td>\n",
       "      <td>NaN</td>\n",
       "      <td>NaN</td>\n",
       "      <td>NaN</td>\n",
       "      <td>NaN</td>\n",
       "      <td>NaN</td>\n",
       "      <td>NaN</td>\n",
       "      <td>NaN</td>\n",
       "      <td>NaN</td>\n",
       "      <td>NaN</td>\n",
       "      <td>NaN</td>\n",
       "    </tr>\n",
       "    <tr>\n",
       "      <th>3</th>\n",
       "      <td>0.0</td>\n",
       "      <td>7.0</td>\n",
       "      <td>OH</td>\n",
       "      <td>71.0</td>\n",
       "      <td>175000.0</td>\n",
       "      <td>NaN</td>\n",
       "      <td>Individual</td>\n",
       "      <td>51015.0</td>\n",
       "      <td>21569.0</td>\n",
       "      <td>50.3</td>\n",
       "      <td>...</td>\n",
       "      <td>NaN</td>\n",
       "      <td>NaN</td>\n",
       "      <td>NaN</td>\n",
       "      <td>NaN</td>\n",
       "      <td>NaN</td>\n",
       "      <td>NaN</td>\n",
       "      <td>NaN</td>\n",
       "      <td>NaN</td>\n",
       "      <td>NaN</td>\n",
       "      <td>NaN</td>\n",
       "    </tr>\n",
       "    <tr>\n",
       "      <th>4</th>\n",
       "      <td>0.0</td>\n",
       "      <td>1.0</td>\n",
       "      <td>FL</td>\n",
       "      <td>91.0</td>\n",
       "      <td>44000.0</td>\n",
       "      <td>NaN</td>\n",
       "      <td>Individual</td>\n",
       "      <td>19041.0</td>\n",
       "      <td>0.0</td>\n",
       "      <td>102.4</td>\n",
       "      <td>...</td>\n",
       "      <td>NaN</td>\n",
       "      <td>NaN</td>\n",
       "      <td>NaN</td>\n",
       "      <td>NaN</td>\n",
       "      <td>NaN</td>\n",
       "      <td>NaN</td>\n",
       "      <td>NaN</td>\n",
       "      <td>NaN</td>\n",
       "      <td>NaN</td>\n",
       "      <td>NaN</td>\n",
       "    </tr>\n",
       "  </tbody>\n",
       "</table>\n",
       "<p>5 rows × 105 columns</p>\n",
       "</div>"
      ],
      "text/plain": [
       "   acc_now_delinq  acc_open_past_24mths addr_state  all_util  annual_inc  \\\n",
       "0             0.0                   8.0         KS      42.0     65000.0   \n",
       "1             0.0                   1.0         VT      34.0    150000.0   \n",
       "2             0.0                   8.0         IN      50.0     75000.0   \n",
       "3             0.0                   7.0         OH      71.0    175000.0   \n",
       "4             0.0                   1.0         FL      91.0     44000.0   \n",
       "\n",
       "   annual_inc_joint application_type  avg_cur_bal  bc_open_to_buy  bc_util  \\\n",
       "0               NaN       Individual      10086.0         41055.0     17.1   \n",
       "1               NaN       Individual      61551.0         24661.0     44.0   \n",
       "2               NaN       Individual       7176.0         23476.0     59.9   \n",
       "3               NaN       Individual      51015.0         21569.0     50.3   \n",
       "4               NaN       Individual      19041.0             0.0    102.4   \n",
       "\n",
       "   ...  sec_app_earliest_cr_line  sec_app_inq_last_6mths  sec_app_mort_acc  \\\n",
       "0  ...                       NaN                     NaN               NaN   \n",
       "1  ...                       NaN                     NaN               NaN   \n",
       "2  ...                       NaN                     NaN               NaN   \n",
       "3  ...                       NaN                     NaN               NaN   \n",
       "4  ...                       NaN                     NaN               NaN   \n",
       "\n",
       "   sec_app_open_acc sec_app_revol_util  sec_app_open_act_il  \\\n",
       "0               NaN                NaN                  NaN   \n",
       "1               NaN                NaN                  NaN   \n",
       "2               NaN                NaN                  NaN   \n",
       "3               NaN                NaN                  NaN   \n",
       "4               NaN                NaN                  NaN   \n",
       "\n",
       "   sec_app_num_rev_accts sec_app_chargeoff_within_12_mths  \\\n",
       "0                    NaN                              NaN   \n",
       "1                    NaN                              NaN   \n",
       "2                    NaN                              NaN   \n",
       "3                    NaN                              NaN   \n",
       "4                    NaN                              NaN   \n",
       "\n",
       "  sec_app_collections_12_mths_ex_med sec_app_mths_since_last_major_derog  \n",
       "0                                NaN                                 NaN  \n",
       "1                                NaN                                 NaN  \n",
       "2                                NaN                                 NaN  \n",
       "3                                NaN                                 NaN  \n",
       "4                                NaN                                 NaN  \n",
       "\n",
       "[5 rows x 105 columns]"
      ]
     },
     "execution_count": 7,
     "metadata": {},
     "output_type": "execute_result"
    }
   ],
   "source": [
    "# checkout the data\n",
    "df.head()"
   ]
  },
  {
   "cell_type": "markdown",
   "metadata": {},
   "source": [
    "Find the numerical columns"
   ]
  },
  {
   "cell_type": "code",
   "execution_count": 55,
   "metadata": {},
   "outputs": [],
   "source": [
    "num_cols = df.describe().columns.tolist()"
   ]
  },
  {
   "cell_type": "markdown",
   "metadata": {},
   "source": [
    "## Questions"
   ]
  },
  {
   "cell_type": "markdown",
   "metadata": {},
   "source": [
    "#### Section A - KPI Reporting"
   ]
  },
  {
   "cell_type": "markdown",
   "metadata": {},
   "source": [
    "A KPI for a certain need shall be a feature that is easier to monitor compare to the actual target and it would have a relatively strong indicating power to the target. "
   ]
  },
  {
   "cell_type": "markdown",
   "metadata": {},
   "source": [
    "#### 1) What is the monthly total loan volume in dollars and what is the monthly average loan size?"
   ]
  },
  {
   "cell_type": "code",
   "execution_count": 56,
   "metadata": {},
   "outputs": [
    {
     "data": {
      "text/plain": [
       "Oct-2015    48631\n",
       "Jul-2015    45962\n",
       "Dec-2015    44343\n",
       "Nov-2015    37530\n",
       "Aug-2015    35886\n",
       "Apr-2015    35427\n",
       "Jan-2015    35107\n",
       "May-2015    31913\n",
       "Sep-2015    28641\n",
       "Jun-2015    28485\n",
       "Mar-2015    25400\n",
       "Feb-2015    23770\n",
       "Name: issue_d, dtype: int64"
      ]
     },
     "execution_count": 56,
     "metadata": {},
     "output_type": "execute_result"
    }
   ],
   "source": [
    "# See unique values in loan issued months\n",
    "df['issue_d'].value_counts()"
   ]
  },
  {
   "cell_type": "markdown",
   "metadata": {},
   "source": [
    "The dataset covers 12 month in the year of 2015, and only the months in 2015. <br>\n",
    "So for convenience, I would convert issue_d to a numerical column where 1 represent Jan 2015, 2 represent Feb 2015, etc."
   ]
  },
  {
   "cell_type": "code",
   "execution_count": 57,
   "metadata": {},
   "outputs": [],
   "source": [
    "df['issue_month'] = pd.to_datetime(df['issue_d'], format='%b-%Y').apply(lambda x: x.month)"
   ]
  },
  {
   "cell_type": "markdown",
   "metadata": {},
   "source": [
    "And for loan volumn in dollars, I found two features that would represent this factor, and here is to check the difference betweet the two. "
   ]
  },
  {
   "cell_type": "code",
   "execution_count": 58,
   "metadata": {},
   "outputs": [
    {
     "data": {
      "text/html": [
       "<div>\n",
       "<style scoped>\n",
       "    .dataframe tbody tr th:only-of-type {\n",
       "        vertical-align: middle;\n",
       "    }\n",
       "\n",
       "    .dataframe tbody tr th {\n",
       "        vertical-align: top;\n",
       "    }\n",
       "\n",
       "    .dataframe thead th {\n",
       "        text-align: right;\n",
       "    }\n",
       "</style>\n",
       "<table border=\"1\" class=\"dataframe\">\n",
       "  <thead>\n",
       "    <tr style=\"text-align: right;\">\n",
       "      <th></th>\n",
       "      <th>acc_now_delinq</th>\n",
       "      <th>acc_open_past_24mths</th>\n",
       "      <th>addr_state</th>\n",
       "      <th>all_util</th>\n",
       "      <th>annual_inc</th>\n",
       "      <th>annual_inc_joint</th>\n",
       "      <th>application_type</th>\n",
       "      <th>avg_cur_bal</th>\n",
       "      <th>bc_open_to_buy</th>\n",
       "      <th>bc_util</th>\n",
       "      <th>chargeoff_within_12_mths</th>\n",
       "      <th>collections_12_mths_ex_med</th>\n",
       "      <th>delinq_2yrs</th>\n",
       "      <th>delinq_amnt</th>\n",
       "      <th>desc</th>\n",
       "      <th>dti</th>\n",
       "      <th>dti_joint</th>\n",
       "      <th>earliest_cr_line</th>\n",
       "      <th>emp_length</th>\n",
       "      <th>emp_title</th>\n",
       "      <th>funded_amnt</th>\n",
       "      <th>funded_amnt_inv</th>\n",
       "      <th>grade</th>\n",
       "      <th>home_ownership</th>\n",
       "      <th>id</th>\n",
       "      <th>il_util</th>\n",
       "      <th>initial_list_status</th>\n",
       "      <th>inq_fi</th>\n",
       "      <th>inq_last_12m</th>\n",
       "      <th>inq_last_6mths</th>\n",
       "      <th>installment</th>\n",
       "      <th>int_rate</th>\n",
       "      <th>issue_d</th>\n",
       "      <th>loan_amnt</th>\n",
       "      <th>loan_status</th>\n",
       "      <th>max_bal_bc</th>\n",
       "      <th>member_id</th>\n",
       "      <th>mo_sin_old_il_acct</th>\n",
       "      <th>mo_sin_old_rev_tl_op</th>\n",
       "      <th>mo_sin_rcnt_rev_tl_op</th>\n",
       "      <th>mo_sin_rcnt_tl</th>\n",
       "      <th>mort_acc</th>\n",
       "      <th>mths_since_last_delinq</th>\n",
       "      <th>mths_since_last_major_derog</th>\n",
       "      <th>mths_since_last_record</th>\n",
       "      <th>mths_since_rcnt_il</th>\n",
       "      <th>mths_since_recent_bc</th>\n",
       "      <th>mths_since_recent_bc_dlq</th>\n",
       "      <th>mths_since_recent_inq</th>\n",
       "      <th>mths_since_recent_revol_delinq</th>\n",
       "      <th>num_accts_ever_120_pd</th>\n",
       "      <th>num_actv_bc_tl</th>\n",
       "      <th>num_actv_rev_tl</th>\n",
       "      <th>num_bc_sats</th>\n",
       "      <th>num_bc_tl</th>\n",
       "      <th>num_il_tl</th>\n",
       "      <th>num_op_rev_tl</th>\n",
       "      <th>num_rev_accts</th>\n",
       "      <th>num_rev_tl_bal_gt_0</th>\n",
       "      <th>num_sats</th>\n",
       "      <th>num_tl_120dpd_2m</th>\n",
       "      <th>num_tl_30dpd</th>\n",
       "      <th>num_tl_90g_dpd_24m</th>\n",
       "      <th>num_tl_op_past_12m</th>\n",
       "      <th>open_acc</th>\n",
       "      <th>open_acc_6m</th>\n",
       "      <th>open_il_12m</th>\n",
       "      <th>open_il_24m</th>\n",
       "      <th>open_act_il</th>\n",
       "      <th>open_rv_12m</th>\n",
       "      <th>open_rv_24m</th>\n",
       "      <th>pct_tl_nvr_dlq</th>\n",
       "      <th>percent_bc_gt_75</th>\n",
       "      <th>policy_code</th>\n",
       "      <th>pub_rec</th>\n",
       "      <th>pub_rec_bankruptcies</th>\n",
       "      <th>purpose</th>\n",
       "      <th>revol_bal</th>\n",
       "      <th>revol_util</th>\n",
       "      <th>sub_grade</th>\n",
       "      <th>tax_liens</th>\n",
       "      <th>term</th>\n",
       "      <th>title</th>\n",
       "      <th>tot_cur_bal</th>\n",
       "      <th>tot_hi_cred_lim</th>\n",
       "      <th>total_acc</th>\n",
       "      <th>total_bal_ex_mort</th>\n",
       "      <th>total_bal_il</th>\n",
       "      <th>total_bc_limit</th>\n",
       "      <th>total_cu_tl</th>\n",
       "      <th>total_il_high_credit_limit</th>\n",
       "      <th>total_rev_hi_lim</th>\n",
       "      <th>verification_status</th>\n",
       "      <th>zip_code</th>\n",
       "      <th>revol_bal_joint</th>\n",
       "      <th>sec_app_earliest_cr_line</th>\n",
       "      <th>sec_app_inq_last_6mths</th>\n",
       "      <th>sec_app_mort_acc</th>\n",
       "      <th>sec_app_open_acc</th>\n",
       "      <th>sec_app_revol_util</th>\n",
       "      <th>sec_app_open_act_il</th>\n",
       "      <th>sec_app_num_rev_accts</th>\n",
       "      <th>sec_app_chargeoff_within_12_mths</th>\n",
       "      <th>sec_app_collections_12_mths_ex_med</th>\n",
       "      <th>sec_app_mths_since_last_major_derog</th>\n",
       "      <th>issue_month</th>\n",
       "    </tr>\n",
       "  </thead>\n",
       "  <tbody>\n",
       "    <tr>\n",
       "      <th>421095</th>\n",
       "      <td>NaN</td>\n",
       "      <td>NaN</td>\n",
       "      <td>NaN</td>\n",
       "      <td>NaN</td>\n",
       "      <td>NaN</td>\n",
       "      <td>NaN</td>\n",
       "      <td>NaN</td>\n",
       "      <td>NaN</td>\n",
       "      <td>NaN</td>\n",
       "      <td>NaN</td>\n",
       "      <td>NaN</td>\n",
       "      <td>NaN</td>\n",
       "      <td>NaN</td>\n",
       "      <td>NaN</td>\n",
       "      <td>NaN</td>\n",
       "      <td>NaN</td>\n",
       "      <td>NaN</td>\n",
       "      <td>NaN</td>\n",
       "      <td>NaN</td>\n",
       "      <td>NaN</td>\n",
       "      <td>NaN</td>\n",
       "      <td>NaN</td>\n",
       "      <td>NaN</td>\n",
       "      <td>NaN</td>\n",
       "      <td>Total amount funded in policy code 1: 6417608175</td>\n",
       "      <td>NaN</td>\n",
       "      <td>NaN</td>\n",
       "      <td>NaN</td>\n",
       "      <td>NaN</td>\n",
       "      <td>NaN</td>\n",
       "      <td>NaN</td>\n",
       "      <td>NaN</td>\n",
       "      <td>NaN</td>\n",
       "      <td>NaN</td>\n",
       "      <td>NaN</td>\n",
       "      <td>NaN</td>\n",
       "      <td>NaN</td>\n",
       "      <td>NaN</td>\n",
       "      <td>NaN</td>\n",
       "      <td>NaN</td>\n",
       "      <td>NaN</td>\n",
       "      <td>NaN</td>\n",
       "      <td>NaN</td>\n",
       "      <td>NaN</td>\n",
       "      <td>NaN</td>\n",
       "      <td>NaN</td>\n",
       "      <td>NaN</td>\n",
       "      <td>NaN</td>\n",
       "      <td>NaN</td>\n",
       "      <td>NaN</td>\n",
       "      <td>NaN</td>\n",
       "      <td>NaN</td>\n",
       "      <td>NaN</td>\n",
       "      <td>NaN</td>\n",
       "      <td>NaN</td>\n",
       "      <td>NaN</td>\n",
       "      <td>NaN</td>\n",
       "      <td>NaN</td>\n",
       "      <td>NaN</td>\n",
       "      <td>NaN</td>\n",
       "      <td>NaN</td>\n",
       "      <td>NaN</td>\n",
       "      <td>NaN</td>\n",
       "      <td>NaN</td>\n",
       "      <td>NaN</td>\n",
       "      <td>NaN</td>\n",
       "      <td>NaN</td>\n",
       "      <td>NaN</td>\n",
       "      <td>NaN</td>\n",
       "      <td>NaN</td>\n",
       "      <td>NaN</td>\n",
       "      <td>NaN</td>\n",
       "      <td>NaN</td>\n",
       "      <td>NaN</td>\n",
       "      <td>NaN</td>\n",
       "      <td>NaN</td>\n",
       "      <td>NaN</td>\n",
       "      <td>NaN</td>\n",
       "      <td>NaN</td>\n",
       "      <td>NaN</td>\n",
       "      <td>NaN</td>\n",
       "      <td>NaN</td>\n",
       "      <td>NaN</td>\n",
       "      <td>NaN</td>\n",
       "      <td>NaN</td>\n",
       "      <td>NaN</td>\n",
       "      <td>NaN</td>\n",
       "      <td>NaN</td>\n",
       "      <td>NaN</td>\n",
       "      <td>NaN</td>\n",
       "      <td>NaN</td>\n",
       "      <td>NaN</td>\n",
       "      <td>NaN</td>\n",
       "      <td>NaN</td>\n",
       "      <td>NaN</td>\n",
       "      <td>NaN</td>\n",
       "      <td>NaN</td>\n",
       "      <td>NaN</td>\n",
       "      <td>NaN</td>\n",
       "      <td>NaN</td>\n",
       "      <td>NaN</td>\n",
       "      <td>NaN</td>\n",
       "      <td>NaN</td>\n",
       "      <td>NaN</td>\n",
       "      <td>NaN</td>\n",
       "      <td>NaN</td>\n",
       "    </tr>\n",
       "    <tr>\n",
       "      <th>421096</th>\n",
       "      <td>NaN</td>\n",
       "      <td>NaN</td>\n",
       "      <td>NaN</td>\n",
       "      <td>NaN</td>\n",
       "      <td>NaN</td>\n",
       "      <td>NaN</td>\n",
       "      <td>NaN</td>\n",
       "      <td>NaN</td>\n",
       "      <td>NaN</td>\n",
       "      <td>NaN</td>\n",
       "      <td>NaN</td>\n",
       "      <td>NaN</td>\n",
       "      <td>NaN</td>\n",
       "      <td>NaN</td>\n",
       "      <td>NaN</td>\n",
       "      <td>NaN</td>\n",
       "      <td>NaN</td>\n",
       "      <td>NaN</td>\n",
       "      <td>NaN</td>\n",
       "      <td>NaN</td>\n",
       "      <td>NaN</td>\n",
       "      <td>NaN</td>\n",
       "      <td>NaN</td>\n",
       "      <td>NaN</td>\n",
       "      <td>Total amount funded in policy code 2: 1944088810</td>\n",
       "      <td>NaN</td>\n",
       "      <td>NaN</td>\n",
       "      <td>NaN</td>\n",
       "      <td>NaN</td>\n",
       "      <td>NaN</td>\n",
       "      <td>NaN</td>\n",
       "      <td>NaN</td>\n",
       "      <td>NaN</td>\n",
       "      <td>NaN</td>\n",
       "      <td>NaN</td>\n",
       "      <td>NaN</td>\n",
       "      <td>NaN</td>\n",
       "      <td>NaN</td>\n",
       "      <td>NaN</td>\n",
       "      <td>NaN</td>\n",
       "      <td>NaN</td>\n",
       "      <td>NaN</td>\n",
       "      <td>NaN</td>\n",
       "      <td>NaN</td>\n",
       "      <td>NaN</td>\n",
       "      <td>NaN</td>\n",
       "      <td>NaN</td>\n",
       "      <td>NaN</td>\n",
       "      <td>NaN</td>\n",
       "      <td>NaN</td>\n",
       "      <td>NaN</td>\n",
       "      <td>NaN</td>\n",
       "      <td>NaN</td>\n",
       "      <td>NaN</td>\n",
       "      <td>NaN</td>\n",
       "      <td>NaN</td>\n",
       "      <td>NaN</td>\n",
       "      <td>NaN</td>\n",
       "      <td>NaN</td>\n",
       "      <td>NaN</td>\n",
       "      <td>NaN</td>\n",
       "      <td>NaN</td>\n",
       "      <td>NaN</td>\n",
       "      <td>NaN</td>\n",
       "      <td>NaN</td>\n",
       "      <td>NaN</td>\n",
       "      <td>NaN</td>\n",
       "      <td>NaN</td>\n",
       "      <td>NaN</td>\n",
       "      <td>NaN</td>\n",
       "      <td>NaN</td>\n",
       "      <td>NaN</td>\n",
       "      <td>NaN</td>\n",
       "      <td>NaN</td>\n",
       "      <td>NaN</td>\n",
       "      <td>NaN</td>\n",
       "      <td>NaN</td>\n",
       "      <td>NaN</td>\n",
       "      <td>NaN</td>\n",
       "      <td>NaN</td>\n",
       "      <td>NaN</td>\n",
       "      <td>NaN</td>\n",
       "      <td>NaN</td>\n",
       "      <td>NaN</td>\n",
       "      <td>NaN</td>\n",
       "      <td>NaN</td>\n",
       "      <td>NaN</td>\n",
       "      <td>NaN</td>\n",
       "      <td>NaN</td>\n",
       "      <td>NaN</td>\n",
       "      <td>NaN</td>\n",
       "      <td>NaN</td>\n",
       "      <td>NaN</td>\n",
       "      <td>NaN</td>\n",
       "      <td>NaN</td>\n",
       "      <td>NaN</td>\n",
       "      <td>NaN</td>\n",
       "      <td>NaN</td>\n",
       "      <td>NaN</td>\n",
       "      <td>NaN</td>\n",
       "      <td>NaN</td>\n",
       "      <td>NaN</td>\n",
       "      <td>NaN</td>\n",
       "      <td>NaN</td>\n",
       "      <td>NaN</td>\n",
       "      <td>NaN</td>\n",
       "    </tr>\n",
       "  </tbody>\n",
       "</table>\n",
       "</div>"
      ],
      "text/plain": [
       "        acc_now_delinq  acc_open_past_24mths addr_state  all_util  annual_inc  \\\n",
       "421095             NaN                   NaN        NaN       NaN         NaN   \n",
       "421096             NaN                   NaN        NaN       NaN         NaN   \n",
       "\n",
       "        annual_inc_joint application_type  avg_cur_bal  bc_open_to_buy  \\\n",
       "421095               NaN              NaN          NaN             NaN   \n",
       "421096               NaN              NaN          NaN             NaN   \n",
       "\n",
       "        bc_util  chargeoff_within_12_mths  collections_12_mths_ex_med  \\\n",
       "421095      NaN                       NaN                         NaN   \n",
       "421096      NaN                       NaN                         NaN   \n",
       "\n",
       "        delinq_2yrs  delinq_amnt desc  dti  dti_joint earliest_cr_line  \\\n",
       "421095          NaN          NaN  NaN  NaN        NaN              NaN   \n",
       "421096          NaN          NaN  NaN  NaN        NaN              NaN   \n",
       "\n",
       "       emp_length emp_title  funded_amnt  funded_amnt_inv grade  \\\n",
       "421095        NaN       NaN          NaN              NaN   NaN   \n",
       "421096        NaN       NaN          NaN              NaN   NaN   \n",
       "\n",
       "       home_ownership                                                id  \\\n",
       "421095            NaN  Total amount funded in policy code 1: 6417608175   \n",
       "421096            NaN  Total amount funded in policy code 2: 1944088810   \n",
       "\n",
       "        il_util initial_list_status  inq_fi  inq_last_12m  inq_last_6mths  \\\n",
       "421095      NaN                 NaN     NaN           NaN             NaN   \n",
       "421096      NaN                 NaN     NaN           NaN             NaN   \n",
       "\n",
       "        installment int_rate issue_d  loan_amnt loan_status  max_bal_bc  \\\n",
       "421095          NaN      NaN     NaN        NaN         NaN         NaN   \n",
       "421096          NaN      NaN     NaN        NaN         NaN         NaN   \n",
       "\n",
       "        member_id  mo_sin_old_il_acct  mo_sin_old_rev_tl_op  \\\n",
       "421095        NaN                 NaN                   NaN   \n",
       "421096        NaN                 NaN                   NaN   \n",
       "\n",
       "        mo_sin_rcnt_rev_tl_op  mo_sin_rcnt_tl  mort_acc  \\\n",
       "421095                    NaN             NaN       NaN   \n",
       "421096                    NaN             NaN       NaN   \n",
       "\n",
       "        mths_since_last_delinq  mths_since_last_major_derog  \\\n",
       "421095                     NaN                          NaN   \n",
       "421096                     NaN                          NaN   \n",
       "\n",
       "        mths_since_last_record  mths_since_rcnt_il  mths_since_recent_bc  \\\n",
       "421095                     NaN                 NaN                   NaN   \n",
       "421096                     NaN                 NaN                   NaN   \n",
       "\n",
       "        mths_since_recent_bc_dlq  mths_since_recent_inq  \\\n",
       "421095                       NaN                    NaN   \n",
       "421096                       NaN                    NaN   \n",
       "\n",
       "        mths_since_recent_revol_delinq  num_accts_ever_120_pd  num_actv_bc_tl  \\\n",
       "421095                             NaN                    NaN             NaN   \n",
       "421096                             NaN                    NaN             NaN   \n",
       "\n",
       "        num_actv_rev_tl  num_bc_sats  num_bc_tl  num_il_tl  num_op_rev_tl  \\\n",
       "421095              NaN          NaN        NaN        NaN            NaN   \n",
       "421096              NaN          NaN        NaN        NaN            NaN   \n",
       "\n",
       "        num_rev_accts  num_rev_tl_bal_gt_0  num_sats  num_tl_120dpd_2m  \\\n",
       "421095            NaN                  NaN       NaN               NaN   \n",
       "421096            NaN                  NaN       NaN               NaN   \n",
       "\n",
       "        num_tl_30dpd  num_tl_90g_dpd_24m  num_tl_op_past_12m  open_acc  \\\n",
       "421095           NaN                 NaN                 NaN       NaN   \n",
       "421096           NaN                 NaN                 NaN       NaN   \n",
       "\n",
       "        open_acc_6m  open_il_12m  open_il_24m  open_act_il  open_rv_12m  \\\n",
       "421095          NaN          NaN          NaN          NaN          NaN   \n",
       "421096          NaN          NaN          NaN          NaN          NaN   \n",
       "\n",
       "        open_rv_24m  pct_tl_nvr_dlq  percent_bc_gt_75  policy_code  pub_rec  \\\n",
       "421095          NaN             NaN               NaN          NaN      NaN   \n",
       "421096          NaN             NaN               NaN          NaN      NaN   \n",
       "\n",
       "        pub_rec_bankruptcies purpose  revol_bal revol_util sub_grade  \\\n",
       "421095                   NaN     NaN        NaN        NaN       NaN   \n",
       "421096                   NaN     NaN        NaN        NaN       NaN   \n",
       "\n",
       "        tax_liens term title  tot_cur_bal  tot_hi_cred_lim  total_acc  \\\n",
       "421095        NaN  NaN   NaN          NaN              NaN        NaN   \n",
       "421096        NaN  NaN   NaN          NaN              NaN        NaN   \n",
       "\n",
       "        total_bal_ex_mort  total_bal_il  total_bc_limit  total_cu_tl  \\\n",
       "421095                NaN           NaN             NaN          NaN   \n",
       "421096                NaN           NaN             NaN          NaN   \n",
       "\n",
       "        total_il_high_credit_limit  total_rev_hi_lim verification_status  \\\n",
       "421095                         NaN               NaN                 NaN   \n",
       "421096                         NaN               NaN                 NaN   \n",
       "\n",
       "       zip_code  revol_bal_joint  sec_app_earliest_cr_line  \\\n",
       "421095      NaN              NaN                       NaN   \n",
       "421096      NaN              NaN                       NaN   \n",
       "\n",
       "        sec_app_inq_last_6mths  sec_app_mort_acc  sec_app_open_acc  \\\n",
       "421095                     NaN               NaN               NaN   \n",
       "421096                     NaN               NaN               NaN   \n",
       "\n",
       "        sec_app_revol_util  sec_app_open_act_il  sec_app_num_rev_accts  \\\n",
       "421095                 NaN                  NaN                    NaN   \n",
       "421096                 NaN                  NaN                    NaN   \n",
       "\n",
       "        sec_app_chargeoff_within_12_mths  sec_app_collections_12_mths_ex_med  \\\n",
       "421095                               NaN                                 NaN   \n",
       "421096                               NaN                                 NaN   \n",
       "\n",
       "        sec_app_mths_since_last_major_derog  issue_month  \n",
       "421095                                  NaN          NaN  \n",
       "421096                                  NaN          NaN  "
      ]
     },
     "execution_count": 58,
     "metadata": {},
     "output_type": "execute_result"
    }
   ],
   "source": [
    "df[df['funded_amnt'] != df['loan_amnt']]"
   ]
  },
  {
   "cell_type": "markdown",
   "metadata": {},
   "source": [
    "Apparently these are two bad entries, so I can drop these two rows and claim that funded_amnt and loan_amnt are two identical columns"
   ]
  },
  {
   "cell_type": "code",
   "execution_count": 59,
   "metadata": {},
   "outputs": [],
   "source": [
    "df = df[df['funded_amnt'] == df['loan_amnt']].copy()\n",
    "df.reset_index(inplace=True, drop=True)"
   ]
  },
  {
   "cell_type": "markdown",
   "metadata": {},
   "source": [
    "Cleaning data, converting strings to numerical values"
   ]
  },
  {
   "cell_type": "code",
   "execution_count": 60,
   "metadata": {},
   "outputs": [],
   "source": [
    "df['int_rate'] = df['int_rate'].apply(lambda x: float(x.replace('%', '')))\n",
    "df['term'] = df['term'].apply(lambda x: int(x.split()[0]))"
   ]
  },
  {
   "cell_type": "code",
   "execution_count": 61,
   "metadata": {},
   "outputs": [
    {
     "data": {
      "text/html": [
       "<div>\n",
       "<style scoped>\n",
       "    .dataframe tbody tr th:only-of-type {\n",
       "        vertical-align: middle;\n",
       "    }\n",
       "\n",
       "    .dataframe tbody tr th {\n",
       "        vertical-align: top;\n",
       "    }\n",
       "\n",
       "    .dataframe thead th {\n",
       "        text-align: right;\n",
       "    }\n",
       "</style>\n",
       "<table border=\"1\" class=\"dataframe\">\n",
       "  <thead>\n",
       "    <tr style=\"text-align: right;\">\n",
       "      <th></th>\n",
       "      <th>funded_amnt</th>\n",
       "      <th>num_of_loans</th>\n",
       "      <th>avg_int_rate</th>\n",
       "      <th>avg_duration</th>\n",
       "      <th>avg_loan_amt</th>\n",
       "      <th>30yr_mortgage</th>\n",
       "    </tr>\n",
       "    <tr>\n",
       "      <th>issue_month</th>\n",
       "      <th></th>\n",
       "      <th></th>\n",
       "      <th></th>\n",
       "      <th></th>\n",
       "      <th></th>\n",
       "      <th></th>\n",
       "    </tr>\n",
       "  </thead>\n",
       "  <tbody>\n",
       "    <tr>\n",
       "      <th>1.0</th>\n",
       "      <td>533132575</td>\n",
       "      <td>35107</td>\n",
       "      <td>13.05</td>\n",
       "      <td>43.84</td>\n",
       "      <td>15185.93</td>\n",
       "      <td>3.67</td>\n",
       "    </tr>\n",
       "    <tr>\n",
       "      <th>2.0</th>\n",
       "      <td>366908525</td>\n",
       "      <td>23770</td>\n",
       "      <td>12.73</td>\n",
       "      <td>43.82</td>\n",
       "      <td>15435.78</td>\n",
       "      <td>3.71</td>\n",
       "    </tr>\n",
       "    <tr>\n",
       "      <th>3.0</th>\n",
       "      <td>390003275</td>\n",
       "      <td>25400</td>\n",
       "      <td>12.77</td>\n",
       "      <td>44.02</td>\n",
       "      <td>15354.46</td>\n",
       "      <td>3.77</td>\n",
       "    </tr>\n",
       "    <tr>\n",
       "      <th>4.0</th>\n",
       "      <td>539401075</td>\n",
       "      <td>35427</td>\n",
       "      <td>12.79</td>\n",
       "      <td>44.00</td>\n",
       "      <td>15225.71</td>\n",
       "      <td>3.67</td>\n",
       "    </tr>\n",
       "    <tr>\n",
       "      <th>5.0</th>\n",
       "      <td>483189475</td>\n",
       "      <td>31913</td>\n",
       "      <td>12.75</td>\n",
       "      <td>43.80</td>\n",
       "      <td>15140.84</td>\n",
       "      <td>3.84</td>\n",
       "    </tr>\n",
       "    <tr>\n",
       "      <th>6.0</th>\n",
       "      <td>429777175</td>\n",
       "      <td>28485</td>\n",
       "      <td>12.76</td>\n",
       "      <td>43.94</td>\n",
       "      <td>15087.84</td>\n",
       "      <td>3.98</td>\n",
       "    </tr>\n",
       "    <tr>\n",
       "      <th>7.0</th>\n",
       "      <td>696238600</td>\n",
       "      <td>45962</td>\n",
       "      <td>12.71</td>\n",
       "      <td>43.88</td>\n",
       "      <td>15148.14</td>\n",
       "      <td>4.05</td>\n",
       "    </tr>\n",
       "    <tr>\n",
       "      <th>8.0</th>\n",
       "      <td>555331400</td>\n",
       "      <td>35886</td>\n",
       "      <td>12.59</td>\n",
       "      <td>43.99</td>\n",
       "      <td>15474.88</td>\n",
       "      <td>3.91</td>\n",
       "    </tr>\n",
       "    <tr>\n",
       "      <th>9.0</th>\n",
       "      <td>450246800</td>\n",
       "      <td>28641</td>\n",
       "      <td>12.66</td>\n",
       "      <td>44.27</td>\n",
       "      <td>15720.36</td>\n",
       "      <td>3.89</td>\n",
       "    </tr>\n",
       "    <tr>\n",
       "      <th>10.0</th>\n",
       "      <td>738221400</td>\n",
       "      <td>48631</td>\n",
       "      <td>12.28</td>\n",
       "      <td>43.61</td>\n",
       "      <td>15180.06</td>\n",
       "      <td>3.80</td>\n",
       "    </tr>\n",
       "    <tr>\n",
       "      <th>11.0</th>\n",
       "      <td>567247325</td>\n",
       "      <td>37530</td>\n",
       "      <td>12.17</td>\n",
       "      <td>43.84</td>\n",
       "      <td>15114.50</td>\n",
       "      <td>3.94</td>\n",
       "    </tr>\n",
       "    <tr>\n",
       "      <th>12.0</th>\n",
       "      <td>667910550</td>\n",
       "      <td>44343</td>\n",
       "      <td>12.28</td>\n",
       "      <td>43.58</td>\n",
       "      <td>15062.37</td>\n",
       "      <td>3.96</td>\n",
       "    </tr>\n",
       "  </tbody>\n",
       "</table>\n",
       "</div>"
      ],
      "text/plain": [
       "             funded_amnt  num_of_loans  avg_int_rate  avg_duration  \\\n",
       "issue_month                                                          \n",
       "1.0            533132575         35107         13.05         43.84   \n",
       "2.0            366908525         23770         12.73         43.82   \n",
       "3.0            390003275         25400         12.77         44.02   \n",
       "4.0            539401075         35427         12.79         44.00   \n",
       "5.0            483189475         31913         12.75         43.80   \n",
       "6.0            429777175         28485         12.76         43.94   \n",
       "7.0            696238600         45962         12.71         43.88   \n",
       "8.0            555331400         35886         12.59         43.99   \n",
       "9.0            450246800         28641         12.66         44.27   \n",
       "10.0           738221400         48631         12.28         43.61   \n",
       "11.0           567247325         37530         12.17         43.84   \n",
       "12.0           667910550         44343         12.28         43.58   \n",
       "\n",
       "             avg_loan_amt  30yr_mortgage  \n",
       "issue_month                               \n",
       "1.0              15185.93           3.67  \n",
       "2.0              15435.78           3.71  \n",
       "3.0              15354.46           3.77  \n",
       "4.0              15225.71           3.67  \n",
       "5.0              15140.84           3.84  \n",
       "6.0              15087.84           3.98  \n",
       "7.0              15148.14           4.05  \n",
       "8.0              15474.88           3.91  \n",
       "9.0              15720.36           3.89  \n",
       "10.0             15180.06           3.80  \n",
       "11.0             15114.50           3.94  \n",
       "12.0             15062.37           3.96  "
      ]
     },
     "execution_count": 61,
     "metadata": {},
     "output_type": "execute_result"
    }
   ],
   "source": [
    "# Monthly total loan volumn in dollars\n",
    "monthly_summary = df.groupby('issue_month')['funded_amnt'].sum().apply(lambda x: int(x)).reset_index()\n",
    "monthly_summary['num_of_loans'] = df.groupby('issue_month').size().values\n",
    "monthly_summary['avg_int_rate'] = df.groupby('issue_month')['int_rate'].mean().apply(lambda x: round(x, 2)).values\n",
    "monthly_summary['avg_duration'] = df.groupby('issue_month')['term'].mean().apply(lambda x: round(x, 2)).values\n",
    "monthly_summary['avg_loan_amt'] = df.groupby('issue_month')['funded_amnt'].mean().apply(lambda x: round(x, 2)).values\n",
    "# I use 30yr_mortgage rate from Freddie Mac to use as a macroeconomic factor in this\n",
    "# http://www.freddiemac.com/pmms/pmms30.html\n",
    "monthly_summary['30yr_mortgage'] = [3.67, 3.71, 3.77, 3.67, 3.84, 3.98, 4.05, 3.91, 3.89, 3.80, 3.94, 3.96]\n",
    "monthly_summary.set_index('issue_month')"
   ]
  },
  {
   "cell_type": "code",
   "execution_count": 62,
   "metadata": {},
   "outputs": [
    {
     "data": {
      "image/png": "[encoded data removed]",
      "text/plain": [
       "<Figure size 720x360 with 1 Axes>"
      ]
     },
     "metadata": {
      "needs_background": "light"
     },
     "output_type": "display_data"
    }
   ],
   "source": [
    "plt.figure(figsize=(10, 5))\n",
    "ax = sns.barplot(x = monthly_summary.index, \n",
    "                 y = monthly_summary['funded_amnt'], \n",
    "                 orient='v', color='Lightblue')\n",
    "plt.title('monthly_loan_volumns ($)')\n",
    "plt.show()"
   ]
  },
  {
   "cell_type": "code",
   "execution_count": 63,
   "metadata": {},
   "outputs": [
    {
     "name": "stdout",
     "output_type": "stream",
     "text": [
      "             funded_amnt\n",
      "issue_month             \n",
      "1.0             15185.93\n",
      "2.0             15435.78\n",
      "3.0             15354.46\n",
      "4.0             15225.71\n",
      "5.0             15140.84\n",
      "6.0             15087.84\n",
      "7.0             15148.14\n",
      "8.0             15474.88\n",
      "9.0             15720.36\n",
      "10.0            15180.06\n",
      "11.0            15114.50\n",
      "12.0            15062.37\n"
     ]
    },
    {
     "data": {
      "text/plain": [
       "Text(0.5, 1.0, 'monthly_loan_volumns ($)')"
      ]
     },
     "execution_count": 63,
     "metadata": {},
     "output_type": "execute_result"
    },
    {
     "data": {
      "image/png": "[encoded data removed]",
      "text/plain": [
       "<Figure size 720x360 with 1 Axes>"
      ]
     },
     "metadata": {
      "needs_background": "light"
     },
     "output_type": "display_data"
    }
   ],
   "source": [
    "# Monthly Avg loan size\n",
    "monthly_avg_size = df.groupby('issue_month')['funded_amnt'].mean().apply(lambda x: round(x, 2)).reset_index()\n",
    "print(monthly_avg_size.set_index('issue_month'))\n",
    "plt.figure(figsize=(10, 5))\n",
    "ax = sns.barplot(x = monthly_avg_size['issue_month'], \n",
    "                 y = monthly_avg_size['funded_amnt'], \n",
    "                 orient='v', color='Lightblue')\n",
    "plt.title('monthly_loan_volumns ($)')"
   ]
  },
  {
   "cell_type": "markdown",
   "metadata": {},
   "source": [
    "#### 2) What are the default rates by Loan Grade?"
   ]
  },
  {
   "cell_type": "markdown",
   "metadata": {},
   "source": [
    "Under loan_status we have the following unique values: <br>\n",
    "Fully Paid, Current, Charged Off, Late (16-30 days), Late (31-120 days), In Grace Period, Default <br>\n",
    "Out of which Charged Off and Default are considered \"default\""
   ]
  },
  {
   "cell_type": "code",
   "execution_count": 64,
   "metadata": {
    "scrolled": true
   },
   "outputs": [
    {
     "name": "stdout",
     "output_type": "stream",
     "text": [
      "grade\n",
      "A     4.51%\n",
      "B     9.75%\n",
      "C    16.22%\n",
      "D    23.52%\n",
      "E    29.08%\n",
      "F     37.6%\n",
      "G    43.05%\n",
      "Name: loan_defaulted, dtype: object\n"
     ]
    }
   ],
   "source": [
    "df['loan_defaulted'] = (df['loan_status'] == 'Default') | (df['loan_status'] == 'Charged Off')\n",
    "default_rate_by_grade = (df.groupby('grade')['loan_defaulted'].mean() * 100).apply(lambda x: f'{round(x, 2)}%')\n",
    "print(default_rate_by_grade)"
   ]
  },
  {
   "cell_type": "markdown",
   "metadata": {},
   "source": [
    "#### 3) Is Lending Club charging an appropriate interest rate for the risk?"
   ]
  },
  {
   "cell_type": "markdown",
   "metadata": {},
   "source": [
    "Look at how different loan status are distributed across the 12 months of 2015. We still can see a clear trend that loans issued in earlier months like Januray has more paid off loans, while loan issued in later months has more current loans. "
   ]
  },
  {
   "cell_type": "code",
   "execution_count": 65,
   "metadata": {},
   "outputs": [
    {
     "data": {
      "text/plain": [
       "<matplotlib.axes._subplots.AxesSubplot at 0x1a1e2d07b8>"
      ]
     },
     "execution_count": 65,
     "metadata": {},
     "output_type": "execute_result"
    },
    {
     "data": {
      "image/png": "[encoded data removed]",
      "text/plain": [
       "<Figure size 1440x720 with 1 Axes>"
      ]
     },
     "metadata": {
      "needs_background": "light"
     },
     "output_type": "display_data"
    }
   ],
   "source": [
    "status_count_by_month = df.groupby('issue_month')['loan_status'].value_counts().to_frame()\n",
    "status_count_by_month.columns = ['count']\n",
    "status_count_by_month = status_count_by_month.reset_index().copy()\n",
    "plt.figure(figsize=(20, 10))\n",
    "sns.barplot(x=\"issue_month\", y=\"count\", hue=\"loan_status\", data=status_count_by_month)"
   ]
  },
  {
   "cell_type": "markdown",
   "metadata": {},
   "source": [
    "And the average default rate of loans issued in certain months are as shown below"
   ]
  },
  {
   "cell_type": "code",
   "execution_count": 66,
   "metadata": {},
   "outputs": [
    {
     "data": {
      "text/plain": [
       "issue_month\n",
       "1.0     17.03%\n",
       "2.0     16.31%\n",
       "3.0     16.76%\n",
       "4.0     16.31%\n",
       "5.0     16.32%\n",
       "6.0     16.11%\n",
       "7.0     15.39%\n",
       "8.0      14.6%\n",
       "9.0     14.71%\n",
       "10.0    13.27%\n",
       "11.0    13.36%\n",
       "12.0    13.92%\n",
       "Name: loan_defaulted, dtype: object"
      ]
     },
     "execution_count": 66,
     "metadata": {},
     "output_type": "execute_result"
    }
   ],
   "source": [
    "df.groupby('issue_month')['loan_defaulted'].mean().apply(lambda x: str(round(x*100, 2))+'%')"
   ]
  },
  {
   "cell_type": "markdown",
   "metadata": {},
   "source": [
    "Because of this clear trend, we can know the 'end of the day' default rate would be roughly around 17% if not higher. Although the loans issued in December only has 13.92% defaulted, but we can expect more of the loans from that month to default within one year time and the reset of their lives. <br>\n",
    "For now I would use default statistics from Jan 2015 to estimate our default rate, since this would be the closest number to true value we have in hand, but keep in mind we might be under estimating the rate."
   ]
  },
  {
   "cell_type": "code",
   "execution_count": 67,
   "metadata": {},
   "outputs": [
    {
     "name": "stdout",
     "output_type": "stream",
     "text": [
      "{'A': 0.05170699370235333, 'B': 0.1183923110528615, 'C': 0.17596953602565388, 'D': 0.24539773686877217, 'E': 0.3212079615648593, 'F': 0.39211136890951276, 'G': 0.4066390041493776}\n"
     ]
    }
   ],
   "source": [
    "DEFAULT_RATE = df.loc[df['issue_month']==1].groupby('grade')['loan_defaulted'].mean().to_dict()\n",
    "print(DEFAULT_RATE)"
   ]
  },
  {
   "cell_type": "code",
   "execution_count": 68,
   "metadata": {},
   "outputs": [],
   "source": [
    "# Calculate NPV of loan using term interest rate and payment\n",
    "def NPV(term, int_rate, payment):\n",
    "    NPV = sum([payment/(1+int_rate/1200)**(i+1) for i in range(term)])\n",
    "    return NPV"
   ]
  },
  {
   "cell_type": "markdown",
   "metadata": {},
   "source": [
    "Calculate NPV assuming risk free rate is 2%"
   ]
  },
  {
   "cell_type": "code",
   "execution_count": 69,
   "metadata": {},
   "outputs": [],
   "source": [
    "# Calculate the NPV when issued of each loan and the adjusted 'Expected' NPV considering the probability of defaulting\n",
    "df['NPV'] = df.apply(lambda x: NPV(x['term'], 2, x['installment']), axis=1)\n",
    "df['adjusted_NPV'] = df.apply(lambda x: x['NPV'] * (1 - DEFAULT_RATE[x['grade']]), axis=1)"
   ]
  },
  {
   "cell_type": "code",
   "execution_count": 70,
   "metadata": {},
   "outputs": [
    {
     "name": "stdout",
     "output_type": "stream",
     "text": [
      "Expected Rate of Return 1.57%\n"
     ]
    }
   ],
   "source": [
    "# The total expected rate of return\n",
    "expected_rate_of_return = df['adjusted_NPV'].sum() / df['funded_amnt'].sum() - 1\n",
    "print(f'Expected Rate of Return {round(expected_rate_of_return * 100, 2)}%')"
   ]
  },
  {
   "cell_type": "markdown",
   "metadata": {},
   "source": [
    "Based on the analysis above, LC is charging enough interest to cover their risk. <br>\n",
    "Currently LC would make \\\\$1.57 in present value for each $100 they lent out. "
   ]
  },
  {
   "cell_type": "markdown",
   "metadata": {},
   "source": [
    "#### Section B - Modeling"
   ]
  },
  {
   "cell_type": "markdown",
   "metadata": {},
   "source": [
    "1) Data is often messy, please review and QA the Lending Club dataset and summarize your thoughts on any structural issues: <br>\n",
    ">  a) Is there missing data? Is the missing data random or structured? Are some attributes missing more than others?  <br>\n",
    "> b) Are there any glaringly erroneous data values?"
   ]
  },
  {
   "cell_type": "markdown",
   "metadata": {},
   "source": [
    "Most questions here would be solved by VLM plots <br>\n",
    "> a. missing rate / rate of zeros over time <br>\n",
    "> b. 1st, 50th and 99th percentile values over time <br>\n",
    "> c. mean and 1 standard deviation value over time <br>"
   ]
  },
  {
   "cell_type": "code",
   "execution_count": 71,
   "metadata": {
    "scrolled": false
   },
   "outputs": [],
   "source": [
    "def vlm_plotter(feature):\n",
    "    '''\n",
    "    Input: \n",
    "        feature (str): name of column to plot the three vlm plots\n",
    "    Output:\n",
    "        None\n",
    "    '''\n",
    "    df_plot = df.copy()\n",
    "    plt.figure(figsize=(15, 5))\n",
    "    plt.title(f'{feature} Missing & Zero Ratio', fontsize=12)\n",
    "    df_plot[f'{feature}_missing'] = (df_plot[feature].isnull()).astype(int)\n",
    "    df_plot[f'{feature}_zero'] = (df_plot[feature] == 0).astype(int)\n",
    "    df_plot.groupby('issue_month')[f'{feature}_missing'].mean().plot()\n",
    "    df_plot.groupby('issue_month')[f'{feature}_zero'].mean().plot()\n",
    "    plt.legend()\n",
    "    plt.show()\n",
    "    plt.figure(figsize=(15, 5))\n",
    "    plt.title(f'{feature} 1st-50th-99th Percentile', fontsize=12)\n",
    "    df_plot = df_plot[df_plot[feature].notnull()].copy()\n",
    "    df_plot.reset_index(inplace=True, drop=True)\n",
    "    df_plot.groupby('issue_month')[feature].agg(lambda x: np.percentile(x, 1)).plot()\n",
    "    df_plot.groupby('issue_month')[feature].agg(lambda x: np.percentile(x, 50)).plot()\n",
    "    df_plot.groupby('issue_month')[feature].agg(lambda x: np.percentile(x, 99)).plot()\n",
    "    plt.show()\n",
    "    data = df_plot.groupby('issue_month')[feature].mean().reset_index()\n",
    "    data.columns = ['issue_month', 'mean']\n",
    "    data = data.assign(std=df_plot.groupby('issue_month')[feature].std().values)\n",
    "    plt.figure(figsize=(15, 5))\n",
    "    plt.title(f'{feature} Mean and 1 std CI', fontsize=12)\n",
    "    data['mean'].plot()\n",
    "    (data['mean'] + data['std']).plot()\n",
    "    (data['mean'] - data['std']).plot()\n",
    "    plt.show()\n",
    "    del df_plot, data"
   ]
  },
  {
   "cell_type": "markdown",
   "metadata": {},
   "source": [
    "Since the vlm_plotter function can only handle numerical features, we would only feed numerical columns to the plotter. But first we found the columns with missing ratio so high that it would be impossible to derive any information out of it. "
   ]
  },
  {
   "cell_type": "code",
   "execution_count": 72,
   "metadata": {
    "scrolled": false
   },
   "outputs": [
    {
     "data": {
      "image/png": "[encoded data removed]",
      "text/plain": [
       "<Figure size 1080x360 with 1 Axes>"
      ]
     },
     "metadata": {
      "needs_background": "light"
     },
     "output_type": "display_data"
    },
    {
     "data": {
      "image/png": "[encoded data removed]",
      "text/plain": [
       "<Figure size 1080x360 with 1 Axes>"
      ]
     },
     "metadata": {
      "needs_background": "light"
     },
     "output_type": "display_data"
    },
    {
     "data": {
      "image/png": "[encoded data removed]",
      "text/plain": [
       "<Figure size 1080x360 with 1 Axes>"
      ]
     },
     "metadata": {
      "needs_background": "light"
     },
     "output_type": "display_data"
    },
    {
     "data": {
      "image/png": "[encoded data removed]",
      "text/plain": [
       "<Figure size 1080x360 with 1 Axes>"
      ]
     },
     "metadata": {
      "needs_background": "light"
     },
     "output_type": "display_data"
    },
    {
     "data": {
      "image/png": "[encoded data removed]",
      "text/plain": [
       "<Figure size 1080x360 with 1 Axes>"
      ]
     },
     "metadata": {
      "needs_background": "light"
     },
     "output_type": "display_data"
    },
    {
     "data": {
      "image/png": "[encoded data removed]",
      "text/plain": [
       "<Figure size 1080x360 with 1 Axes>"
      ]
     },
     "metadata": {
      "needs_background": "light"
     },
     "output_type": "display_data"
    },
    {
     "data": {
      "image/png": "[encoded data removed]",
      "text/plain": [
       "<Figure size 1080x360 with 1 Axes>"
      ]
     },
     "metadata": {
      "needs_background": "light"
     },
     "output_type": "display_data"
    },
    {
     "data": {
      "image/png": "[encoded data removed]",
      "text/plain": [
       "<Figure size 1080x360 with 1 Axes>"
      ]
     },
     "metadata": {
      "needs_background": "light"
     },
     "output_type": "display_data"
    },
    {
     "data": {
      "image/png": "[encoded data removed]",
      "text/plain": [
       "<Figure size 1080x360 with 1 Axes>"
      ]
     },
     "metadata": {
      "needs_background": "light"
     },
     "output_type": "display_data"
    }
   ],
   "source": [
    "high_missing_columns = df.isnull().mean()[df.isnull().mean() > 0.8].index.tolist()\n",
    "num_cols = list(set(num_cols) - set(high_missing_columns))\n",
    "\n",
    "# Here I only showed plots for three features ton save space\n",
    "# We have in total 50+ features to plot and would ressult in 150+ plots\n",
    "for col in num_cols[:3]:\n",
    "    vlm_plotter(col)"
   ]
  },
  {
   "cell_type": "markdown",
   "metadata": {},
   "source": [
    "The for loop above went through 50+ numerical features from the data and plotted 150+ plots. Judging from the plots There are no significant strange or structural abnormality in the numerical features. "
   ]
  },
  {
   "cell_type": "markdown",
   "metadata": {},
   "source": [
    "#### 2) Using any format and any modeling technique that you prefer, please create a model to predict default within the Lending Club dataset."
   ]
  },
  {
   "cell_type": "code",
   "execution_count": 73,
   "metadata": {},
   "outputs": [],
   "source": [
    "# Drop features with high missing rates\n",
    "df.drop(high_missing_columns, axis=1, inplace=True)"
   ]
  },
  {
   "cell_type": "code",
   "execution_count": 74,
   "metadata": {},
   "outputs": [],
   "source": [
    "# Drop features that does not provide information or not allowed to use in modeling\n",
    "cols_to_drop = ['issue_d', 'emp_title', 'zip_code']\n",
    "df.drop(cols_to_drop, axis=1, inplace=True)"
   ]
  },
  {
   "cell_type": "code",
   "execution_count": 75,
   "metadata": {},
   "outputs": [],
   "source": [
    "# convert emp_length to int\n",
    "def emp_length_helper(s):\n",
    "    try:\n",
    "        s = s.split()[0]\n",
    "        if '<' in s:\n",
    "            return 0\n",
    "        elif '+' in s:\n",
    "            return 10\n",
    "        else:\n",
    "            year = int(s)\n",
    "            return year\n",
    "    except AttributeError:\n",
    "        return np.nan\n",
    "    \n",
    "df['emp_length'] = df['emp_length'].apply(emp_length_helper)"
   ]
  },
  {
   "cell_type": "code",
   "execution_count": 76,
   "metadata": {},
   "outputs": [],
   "source": [
    "# Convert grade to ordinal\n",
    "alphabet_map = {\n",
    "    'A': 1,\n",
    "    'B': 2,\n",
    "    'C': 3,\n",
    "    'D': 4,\n",
    "    'E': 5,\n",
    "    'F': 6,\n",
    "    'G': 7\n",
    "}\n",
    "df['grade'] = df['grade'].map(alphabet_map)"
   ]
  },
  {
   "cell_type": "code",
   "execution_count": 77,
   "metadata": {},
   "outputs": [],
   "source": [
    "# Convert sub grade to ordinal int\n",
    "df['sub_grade'] = df['sub_grade'].apply(lambda x: int(x[1:]))"
   ]
  },
  {
   "cell_type": "code",
   "execution_count": 78,
   "metadata": {},
   "outputs": [],
   "source": [
    "# Convert term to binary since we only have two options of terms\n",
    "df['term'] = df['term'] == 60"
   ]
  },
  {
   "cell_type": "code",
   "execution_count": 79,
   "metadata": {},
   "outputs": [],
   "source": [
    "# Convert cr line history to ages\n",
    "# We expect that longer credit history is, less likely to default\n",
    "df['creditline_age_in_days'] = (pd.datetime(2016, 1, 1) - pd.to_datetime(df['earliest_cr_line'], format='%b-%Y')).apply(lambda x: x.days)\n",
    "df.drop('earliest_cr_line', axis=1, inplace=True)"
   ]
  },
  {
   "cell_type": "code",
   "execution_count": 80,
   "metadata": {},
   "outputs": [
    {
     "data": {
      "text/plain": [
       "title      132\n",
       "purpose      0\n",
       "dtype: int64"
      ]
     },
     "execution_count": 80,
     "metadata": {},
     "output_type": "execute_result"
    }
   ],
   "source": [
    "# title and purpose hold the same information\n",
    "df[['title', 'purpose']].isnull().sum()"
   ]
  },
  {
   "cell_type": "code",
   "execution_count": 81,
   "metadata": {},
   "outputs": [],
   "source": [
    "# since purpose has a better quality data, we drop title\n",
    "df.drop('title', axis=1, inplace=True)"
   ]
  },
  {
   "cell_type": "code",
   "execution_count": 82,
   "metadata": {},
   "outputs": [],
   "source": [
    "# convert revol_util to float\n",
    "df['revol_util'] = df['revol_util'].apply(lambda x: np.nan if str(x) == 'nan' else x.replace('%', ''))"
   ]
  },
  {
   "cell_type": "code",
   "execution_count": 83,
   "metadata": {},
   "outputs": [],
   "source": [
    "# application type to binary since we only have two options\n",
    "df['application_type'] = df['application_type'] == 'Individual'"
   ]
  },
  {
   "cell_type": "code",
   "execution_count": 84,
   "metadata": {},
   "outputs": [],
   "source": [
    "# initial_list_status to binary since we only have two options\n",
    "df['initial_list_status'] = df['initial_list_status'] == 'w'"
   ]
  },
  {
   "cell_type": "markdown",
   "metadata": {},
   "source": [
    "Add 30 yr mortgage rate to the data"
   ]
  },
  {
   "cell_type": "code",
   "execution_count": 85,
   "metadata": {},
   "outputs": [],
   "source": [
    "df = pd.merge(df, monthly_summary[['issue_month', '30yr_mortgage']], \n",
    "              left_on='issue_month', right_on='issue_month', how='left')"
   ]
  },
  {
   "cell_type": "markdown",
   "metadata": {},
   "source": [
    "See if there is a relationship between mortgage rate and default rate"
   ]
  },
  {
   "cell_type": "code",
   "execution_count": 86,
   "metadata": {},
   "outputs": [
    {
     "data": {
      "image/png": "[encoded data removed]",
      "text/plain": [
       "<Figure size 720x360 with 1 Axes>"
      ]
     },
     "metadata": {
      "needs_background": "light"
     },
     "output_type": "display_data"
    }
   ],
   "source": [
    "plt.figure(figsize=(10, 5))\n",
    "plt.title('Mortgage Rate vs. Default Rate', fontsize=12)\n",
    "mort = df.groupby('30yr_mortgage')['loan_defaulted'].mean().reset_index()\n",
    "plt.scatter(mort['30yr_mortgage'], mort['loan_defaulted'], s=200)\n",
    "plt.xlabel('30 yrs mortgage rate')\n",
    "plt.ylabel('Default Rate')\n",
    "plt.show()"
   ]
  },
  {
   "cell_type": "code",
   "execution_count": 87,
   "metadata": {},
   "outputs": [
    {
     "name": "stdout",
     "output_type": "stream",
     "text": [
      "Pearson Corr: -0.43 \n",
      "p-value: 0.19\n"
     ]
    }
   ],
   "source": [
    "# Test if correlation is significant\n",
    "pearson = pearsonr(mort['30yr_mortgage'], mort['loan_defaulted'])\n",
    "print(f'Pearson Corr: {round(pearson[0], 2)} \\np-value: {round(pearson[1], 2)}')"
   ]
  },
  {
   "cell_type": "markdown",
   "metadata": {},
   "source": [
    "p-value of 0.19 failed to proof that this is a statistical significant relationship between the 30 year mortgage rate and default rate."
   ]
  },
  {
   "cell_type": "markdown",
   "metadata": {},
   "source": [
    "The risk of the loans come from three originations:\n",
    "> a. Customers' creditability <br>\n",
    "> b. Loan structure, is it appropriate and well defined <br>\n",
    "> c. Macro Economics <br>"
   ]
  },
  {
   "cell_type": "markdown",
   "metadata": {},
   "source": [
    "Let's try to identify features we have in this dataset based on this three categories."
   ]
  },
  {
   "cell_type": "code",
   "execution_count": 88,
   "metadata": {},
   "outputs": [],
   "source": [
    "customer = ['acc_now_delinq', 'acc_open_past_24mths', 'annual_inc', 'avg_cur_bal', 'bc_open_to_buy', 'bc_util',\n",
    "            'chargeoff_within_12_mths', 'collections_12_mths_ex_med', 'delinq_2yrs', 'delinq_amnt', 'dti', \n",
    "            'emp_length', 'home_ownership', 'inq_last_6mths', 'mo_sin_old_il_acct', 'mo_sin_old_rev_tl_op',\n",
    "            'mo_sin_rcnt_rev_tl_op', 'mo_sin_rcnt_tl', 'mort_acc', 'mths_since_last_delinq', \n",
    "            'mths_since_last_major_derog', 'mths_since_recent_bc', 'mths_since_recent_bc_dlq', \n",
    "            'mths_since_recent_inq', 'mths_since_recent_revol_delinq', 'num_accts_ever_120_pd', 'num_actv_bc_tl',\n",
    "            'num_actv_rev_tl', 'num_bc_sats', 'num_bc_tl', 'num_il_tl', 'num_op_rev_tl', 'num_rev_accts',\n",
    "            'num_rev_tl_bal_gt_0', 'num_sats', 'num_tl_120dpd_2m', 'num_tl_30dpd', 'num_tl_90g_dpd_24m',\n",
    "            'num_tl_op_past_12m', 'open_acc', 'pct_tl_nvr_dlq', 'percent_bc_gt_75', 'pub_rec',  \n",
    "            'pub_rec_bankruptcies', 'purpose', 'revol_bal', 'revol_util', 'tax_liens', 'tot_cur_bal',\n",
    "            'tot_hi_cred_lim', 'total_acc', 'total_bal_ex_mort', 'total_bc_limit', 'total_il_high_credit_limit',\n",
    "            'total_rev_hi_lim', 'verification_status', 'addr_state']\n",
    "loan = ['application_type', 'funded_amnt', 'funded_amnt_inv', 'initial_list_status', 'installment', 'int_rate',\n",
    "        'policy_code', 'term']\n",
    "econ = ['addr_state', '30yr_mortgage']\n",
    "derived = ['grade', 'sub_grade']"
   ]
  },
  {
   "cell_type": "markdown",
   "metadata": {},
   "source": [
    "Because two reasons:\n",
    "> all loans from this dataset are from the year of 2015, there would be limited macroeconomic variance during that time window <br>\n",
    "> we don't have enough macroeconomic features from this dataset"
   ]
  },
  {
   "cell_type": "markdown",
   "metadata": {},
   "source": [
    "I would choose to ignore the impact of macroeconomy to the loan."
   ]
  },
  {
   "cell_type": "markdown",
   "metadata": {},
   "source": [
    "Hypothesis: Loan Grade is based on loan structure"
   ]
  },
  {
   "cell_type": "code",
   "execution_count": 89,
   "metadata": {},
   "outputs": [],
   "source": [
    "s = ['application_type','funded_amnt','funded_amnt_inv','initial_list_status','installment','policy_code','term']"
   ]
  },
  {
   "cell_type": "code",
   "execution_count": 46,
   "metadata": {
    "scrolled": true
   },
   "outputs": [
    {
     "name": "stdout",
     "output_type": "stream",
     "text": [
      "Accuracy Score: 81.16%\n"
     ]
    }
   ],
   "source": [
    "X = df[s].values\n",
    "y = df['grade'].values\n",
    "X_train, X_test, y_train, y_test = train_test_split(X, y, stratify=y, test_size=0.3, random_state=42)\n",
    "\n",
    "clf = xgb.XGBClassifier(learning_rate=0.05,\n",
    "                        n_estimators=1000,\n",
    "                        max_depth=3,\n",
    "                        min_child_weight=6,\n",
    "                        gamma=0,\n",
    "                        subsample=0.8,\n",
    "                        num_class=5,\n",
    "                        colsample_bytree=0.8,\n",
    "                        objective= 'multi:softmax',\n",
    "                        nthread=8,\n",
    "                        scale_pos_weight=1,\n",
    "                        seed=42)\n",
    "\n",
    "clf.fit(X_train, y_train)\n",
    "\n",
    "# Make prediction on the training data\n",
    "y_train_pred = clf.predict(X_train)\n",
    "# Make predictions on test data\n",
    "y_test_pred = clf.predict(X_test)\n",
    "print(f'Accuracy Score: {round(accuracy_score(y_test, y_test_pred)*100, 2)}%')"
   ]
  },
  {
   "cell_type": "code",
   "execution_count": 48,
   "metadata": {},
   "outputs": [
    {
     "data": {
      "text/html": [
       "<div>\n",
       "<style scoped>\n",
       "    .dataframe tbody tr th:only-of-type {\n",
       "        vertical-align: middle;\n",
       "    }\n",
       "\n",
       "    .dataframe tbody tr th {\n",
       "        vertical-align: top;\n",
       "    }\n",
       "\n",
       "    .dataframe thead th {\n",
       "        text-align: right;\n",
       "    }\n",
       "</style>\n",
       "<table border=\"1\" class=\"dataframe\">\n",
       "  <thead>\n",
       "    <tr style=\"text-align: right;\">\n",
       "      <th></th>\n",
       "      <th>feature</th>\n",
       "      <th>importance</th>\n",
       "    </tr>\n",
       "  </thead>\n",
       "  <tbody>\n",
       "    <tr>\n",
       "      <th>0</th>\n",
       "      <td>application_type</td>\n",
       "      <td>0.008586</td>\n",
       "    </tr>\n",
       "    <tr>\n",
       "      <th>1</th>\n",
       "      <td>funded_amnt</td>\n",
       "      <td>0.148939</td>\n",
       "    </tr>\n",
       "    <tr>\n",
       "      <th>2</th>\n",
       "      <td>funded_amnt_inv</td>\n",
       "      <td>0.166826</td>\n",
       "    </tr>\n",
       "    <tr>\n",
       "      <th>3</th>\n",
       "      <td>initial_list_status</td>\n",
       "      <td>0.184004</td>\n",
       "    </tr>\n",
       "    <tr>\n",
       "      <th>4</th>\n",
       "      <td>installment</td>\n",
       "      <td>0.171796</td>\n",
       "    </tr>\n",
       "    <tr>\n",
       "      <th>5</th>\n",
       "      <td>policy_code</td>\n",
       "      <td>0.000000</td>\n",
       "    </tr>\n",
       "    <tr>\n",
       "      <th>6</th>\n",
       "      <td>term</td>\n",
       "      <td>0.319850</td>\n",
       "    </tr>\n",
       "  </tbody>\n",
       "</table>\n",
       "</div>"
      ],
      "text/plain": [
       "               feature  importance\n",
       "0     application_type    0.008586\n",
       "1          funded_amnt    0.148939\n",
       "2      funded_amnt_inv    0.166826\n",
       "3  initial_list_status    0.184004\n",
       "4          installment    0.171796\n",
       "5          policy_code    0.000000\n",
       "6                 term    0.319850"
      ]
     },
     "execution_count": 48,
     "metadata": {},
     "output_type": "execute_result"
    }
   ],
   "source": [
    "# See the feature importance in this model\n",
    "loan_feature_importance = pd.DataFrame(zip(s, clf.feature_importances_))\n",
    "loan_feature_importance.columns = ['feature', 'importance']\n",
    "loan_feature_importance\n",
    "\n",
    "# Step wise logistic reg. recommended. When found the highest EXP, - remove int. then look at loan amount and income. "
   ]
  },
  {
   "cell_type": "markdown",
   "metadata": {},
   "source": [
    "It is obvious that int_rate is dominating this model. Let's take a closer look at int_rate vs. grade"
   ]
  },
  {
   "cell_type": "code",
   "execution_count": null,
   "metadata": {},
   "outputs": [],
   "source": [
    "X = df[['int_rate']].values\n",
    "y = df['grade'].values\n",
    "X_train, X_test, y_train, y_test = train_test_split(X, y, stratify=y, test_size=0.3, random_state=42)\n",
    "\n",
    "clf = xgb.XGBClassifier(learning_rate=0.05,\n",
    "                        n_estimators=1000,\n",
    "                        max_depth=3,\n",
    "                        min_child_weight=6,\n",
    "                        gamma=0,\n",
    "                        subsample=0.8,\n",
    "                        num_class=5,\n",
    "                        colsample_bytree=0.8,\n",
    "                        objective= 'multi:softmax',\n",
    "                        nthread=8,\n",
    "                        scale_pos_weight=1,\n",
    "                        seed=42)\n",
    "\n",
    "clf.fit(X_train, y_train)\n",
    "\n",
    "# Make prediction on the training data\n",
    "y_train_pred = clf.predict(X_train)\n",
    "# Make predictions on test data\n",
    "y_test_pred = clf.predict(X_test)\n",
    "print(f'Accuracy Score: {round(accuracy_score(y_test, y_test_pred)*100, 2)}%')"
   ]
  },
  {
   "cell_type": "markdown",
   "metadata": {},
   "source": [
    "This showed that the loan grade is almost a rule based cut on int_rate, and the two are almost identicle from the perspective of information provided. "
   ]
  },
  {
   "cell_type": "code",
   "execution_count": null,
   "metadata": {},
   "outputs": [],
   "source": [
    "def get_performance_metrics(y_train, y_train_pred, y_test, y_test_pred, threshold=0.5):\n",
    "    '''\n",
    "    Helper function to get 5 kinds of performance metrics for binary classification models\n",
    "    Input:\n",
    "        y_train (np.array): binary (0/1)\n",
    "        y_train_pred (np.array): continuous between 0 and 1\n",
    "        y_test (np.array): binary (0/1)\n",
    "        y_test_pred (np.array): continuous between 0 and 1\n",
    "        threshold (float): cut off point to determine the target\n",
    "    Output:\n",
    "        None\n",
    "    '''\n",
    "    metric_names = ['AUC','Accuracy','Precision','Recall','f1-score']\n",
    "    metric_values_train = [roc_auc_score(y_train, y_train_pred),\n",
    "                    accuracy_score(y_train, y_train_pred>threshold),\n",
    "                    precision_score(y_train, y_train_pred>threshold),\n",
    "                    recall_score(y_train, y_train_pred>threshold),\n",
    "                    f1_score(y_train, y_train_pred>threshold)\n",
    "                   ]\n",
    "    metric_values_test = [roc_auc_score(y_test, y_test_pred),\n",
    "                    accuracy_score(y_test, y_test_pred>threshold),\n",
    "                    precision_score(y_test, y_test_pred>threshold),\n",
    "                    recall_score(y_test, y_test_pred>threshold),\n",
    "                    f1_score(y_test, y_test_pred>threshold)\n",
    "                   ]\n",
    "    all_metrics = pd.DataFrame({'metrics':metric_names,\n",
    "                                'train':metric_values_train,\n",
    "                                'test':metric_values_test},columns=['metrics','train','test']).set_index('metrics')\n",
    "    print(all_metrics)\n",
    "    \n",
    "def plot_roc_curve(y_train, y_train_pred, y_test, y_test_pred):\n",
    "    '''\n",
    "    Helper function to get 5 kinds of performance metrics for binary classification models\n",
    "    Input:\n",
    "        y_train (np.array): binary (0/1)\n",
    "        y_train_pred (np.array): continuous between 0 and 1\n",
    "        y_test (np.array): binary (0/1)\n",
    "        y_test_pred (np.array): continuous between 0 and 1\n",
    "    Output:\n",
    "        None\n",
    "    '''\n",
    "    roc_auc_train = roc_auc_score(y_train, y_train_pred)\n",
    "    fpr_train, tpr_train, _ = roc_curve(y_train, y_train_pred)\n",
    "\n",
    "    roc_auc_test = roc_auc_score(y_test, y_test_pred)\n",
    "    fpr_test, tpr_test, _ = roc_curve(y_test, y_test_pred)\n",
    "    plt.figure()\n",
    "    lw = 2\n",
    "    plt.figure(figsize=(12, 10))\n",
    "    plt.plot(fpr_train, tpr_train, color='green',\n",
    "             lw=lw, label='ROC Train (AUC = %0.4f)' % roc_auc_train)\n",
    "    plt.plot(fpr_test, tpr_test, color='darkorange',\n",
    "             lw=lw, label='ROC Test (AUC = %0.4f)' % roc_auc_test)\n",
    "    plt.plot([0, 1], [0, 1], color='navy', lw=lw, linestyle='--')\n",
    "    plt.xlim([0.0, 1.0])\n",
    "    plt.ylim([0.0, 1.05])\n",
    "    plt.xlabel('False Positive Rate')\n",
    "    plt.ylabel('True Positive Rate')\n",
    "    plt.title('ROC')\n",
    "    plt.legend(loc=\"lower right\")\n",
    "    plt.show()"
   ]
  },
  {
   "cell_type": "markdown",
   "metadata": {},
   "source": [
    "First try to build a model on all loan related features, this model is expected to answer the question of what kind of loan structures are more likely to be defaulted?"
   ]
  },
  {
   "cell_type": "code",
   "execution_count": 90,
   "metadata": {},
   "outputs": [],
   "source": [
    "df['loan_deliq'] = df['loan_status'].apply(lambda x: x in ['Charged Off', 'Late (16-30 days)', 'Late (31-120 days)', 'Default'])"
   ]
  },
  {
   "cell_type": "code",
   "execution_count": 91,
   "metadata": {},
   "outputs": [
    {
     "data": {
      "text/plain": [
       "['acc_now_delinq',\n",
       " 'acc_open_past_24mths',\n",
       " 'annual_inc',\n",
       " 'avg_cur_bal',\n",
       " 'bc_open_to_buy',\n",
       " 'bc_util',\n",
       " 'chargeoff_within_12_mths',\n",
       " 'collections_12_mths_ex_med',\n",
       " 'delinq_2yrs',\n",
       " 'delinq_amnt',\n",
       " 'dti',\n",
       " 'emp_length',\n",
       " 'funded_amnt',\n",
       " 'funded_amnt_inv',\n",
       " 'grade',\n",
       " 'inq_last_6mths',\n",
       " 'installment',\n",
       " 'int_rate',\n",
       " 'loan_amnt',\n",
       " 'mo_sin_old_il_acct',\n",
       " 'mo_sin_old_rev_tl_op',\n",
       " 'mo_sin_rcnt_rev_tl_op',\n",
       " 'mo_sin_rcnt_tl',\n",
       " 'mort_acc',\n",
       " 'mths_since_last_delinq',\n",
       " 'mths_since_last_major_derog',\n",
       " 'mths_since_recent_bc',\n",
       " 'mths_since_recent_bc_dlq',\n",
       " 'mths_since_recent_inq',\n",
       " 'mths_since_recent_revol_delinq',\n",
       " 'num_accts_ever_120_pd',\n",
       " 'num_actv_bc_tl',\n",
       " 'num_actv_rev_tl',\n",
       " 'num_bc_sats',\n",
       " 'num_bc_tl',\n",
       " 'num_il_tl',\n",
       " 'num_op_rev_tl',\n",
       " 'num_rev_accts',\n",
       " 'num_rev_tl_bal_gt_0',\n",
       " 'num_sats',\n",
       " 'num_tl_120dpd_2m',\n",
       " 'num_tl_30dpd',\n",
       " 'num_tl_90g_dpd_24m',\n",
       " 'num_tl_op_past_12m',\n",
       " 'open_acc',\n",
       " 'pct_tl_nvr_dlq',\n",
       " 'percent_bc_gt_75',\n",
       " 'policy_code',\n",
       " 'pub_rec',\n",
       " 'pub_rec_bankruptcies',\n",
       " 'revol_bal',\n",
       " 'sub_grade',\n",
       " 'tax_liens',\n",
       " 'tot_cur_bal',\n",
       " 'tot_hi_cred_lim',\n",
       " 'total_acc',\n",
       " 'total_bal_ex_mort',\n",
       " 'total_bc_limit',\n",
       " 'total_il_high_credit_limit',\n",
       " 'total_rev_hi_lim',\n",
       " 'issue_month',\n",
       " 'NPV',\n",
       " 'adjusted_NPV',\n",
       " 'creditline_age_in_days',\n",
       " '30yr_mortgage']"
      ]
     },
     "execution_count": 91,
     "metadata": {},
     "output_type": "execute_result"
    }
   ],
   "source": [
    "df.describe().columns.tolist()"
   ]
  },
  {
   "cell_type": "code",
   "execution_count": null,
   "metadata": {},
   "outputs": [],
   "source": [
    "for col in df.describe().columns.tolist():\n",
    "    df[col] = df[col].apply(lambda x: np.log(x+1))"
   ]
  },
  {
   "cell_type": "code",
   "execution_count": null,
   "metadata": {},
   "outputs": [],
   "source": [
    "X = df[loan].values\n",
    "y = df['loan_deliq'].values\n",
    "X_train, X_test, y_train, y_test = train_test_split(X, y, stratify=y, test_size=0.3, random_state=42)\n",
    "\n",
    "clf_loan = xgb.XGBClassifier(learning_rate=0.05,\n",
    "                             n_estimators=1000,\n",
    "                             max_depth=3,\n",
    "                             min_child_weight=6,\n",
    "                             gamma=0,\n",
    "                             subsample=0.8,\n",
    "                             colsample_bytree=0.8,\n",
    "                             objective= 'binary:logistic',\n",
    "                             eval_metric='auc',\n",
    "                             nthread=8,\n",
    "                             scale_pos_weight=1,\n",
    "                             seed=42)\n",
    "\n",
    "clf_loan.fit(X_train, y_train)\n",
    "\n",
    "# Make prediction on the training data\n",
    "y_train_pred_loan = clf_loan.predict(X_train)\n",
    "p_train_pred_loan = clf_loan.predict_proba(X_train)[:, 1]\n",
    "# Make predictions on test data\n",
    "y_test_pred_loan = clf_loan.predict(X_test)\n",
    "p_test_pred_loan = clf_loan.predict_proba(X_test)[:, 1]"
   ]
  },
  {
   "cell_type": "markdown",
   "metadata": {},
   "source": [
    "Plot the ROC curve"
   ]
  },
  {
   "cell_type": "code",
   "execution_count": null,
   "metadata": {
    "scrolled": false
   },
   "outputs": [],
   "source": [
    "get_performance_metrics(y_train, p_train_pred_loan, y_test, p_test_pred_loan, threshold=0.5)\n",
    "plot_roc_curve(y_train, p_train_pred_loan, y_test, p_test_pred_loan)"
   ]
  },
  {
   "cell_type": "markdown",
   "metadata": {},
   "source": [
    "Plot lift chart of this model, which visualize the ordering power of the model"
   ]
  },
  {
   "cell_type": "code",
   "execution_count": null,
   "metadata": {},
   "outputs": [],
   "source": [
    "df_test_loan = pd.DataFrame(X_test, columns=loan)\n",
    "df_test_loan['loan_defaulted'] = y_test\n",
    "df_test_loan['pred'] = pd.cut(p_test_pred_loan, 100)\n",
    "plt.figure(figsize=(15, 10))\n",
    "plt.title('Lift Chart of Loan Model', fontsize=12)\n",
    "df_test_loan.groupby('pred')['loan_defaulted'].mean().plot()"
   ]
  },
  {
   "cell_type": "markdown",
   "metadata": {},
   "source": [
    "Generate one-hot-encoders for multi-class categorical features"
   ]
  },
  {
   "cell_type": "code",
   "execution_count": null,
   "metadata": {},
   "outputs": [],
   "source": [
    "multi_class = ['home_ownership', 'purpose', 'verification_status', 'addr_state']\n",
    "df_dum = pd.get_dummies(df[multi_class], drop_first=True)\n",
    "customer = list((set(customer) - set(multi_class)) | set(df_dum.columns.tolist()))\n",
    "df_ohe = pd.concat([df.drop(multi_class, axis=1), df_dum], axis=1, sort=False)\n",
    "df_ohe.reset_index(inplace=True, drop=True)"
   ]
  },
  {
   "cell_type": "markdown",
   "metadata": {},
   "source": [
    "Train model on customer related features, this model is expected answer the question of what kind of customers are more likely to default a loan."
   ]
  },
  {
   "cell_type": "code",
   "execution_count": null,
   "metadata": {},
   "outputs": [],
   "source": [
    "X = df_ohe[customer].values\n",
    "y = df_ohe['loan_defaulted'].values\n",
    "X_train, X_test, y_train, y_test = train_test_split(X, y, stratify=y, test_size=0.3, random_state=42)\n",
    "\n",
    "clf_cust = xgb.XGBClassifier(learning_rate=0.05,\n",
    "                             n_estimators=1000,\n",
    "                             max_depth=3,\n",
    "                             min_child_weight=6,\n",
    "                             gamma=0,\n",
    "                             subsample=0.8,\n",
    "                             colsample_bytree=0.8,\n",
    "                             objective= 'binary:logistic',\n",
    "                             eval_metric='auc',\n",
    "                             nthread=8,\n",
    "                             scale_pos_weight=1,\n",
    "                             seed=42)\n",
    "\n",
    "clf_cust.fit(X_train, y_train)\n",
    "\n",
    "# Make prediction on the training data\n",
    "y_train_pred_cust = clf_cust.predict(X_train)\n",
    "p_train_pred_cust = clf_cust.predict_proba(X_train)[:, 1]\n",
    "# Make predictions on test data\n",
    "y_test_pred_cust = clf_cust.predict(X_test)\n",
    "p_test_pred_cust = clf_cust.predict_proba(X_test)[:, 1]"
   ]
  },
  {
   "cell_type": "markdown",
   "metadata": {},
   "source": [
    "Plot the ROC curve"
   ]
  },
  {
   "cell_type": "code",
   "execution_count": null,
   "metadata": {},
   "outputs": [],
   "source": [
    "get_performance_metrics(y_train, p_train_pred_cust, y_test, p_test_pred_cust, threshold=0.5)\n",
    "plot_roc_curve(y_train, p_train_pred_cust, y_test, p_test_pred_cust)"
   ]
  },
  {
   "cell_type": "markdown",
   "metadata": {},
   "source": [
    "Plot lift chart of this model, which visualize the ordering power of the model"
   ]
  },
  {
   "cell_type": "code",
   "execution_count": null,
   "metadata": {},
   "outputs": [],
   "source": [
    "df_test_cust = pd.DataFrame(X_test, columns=customer)\n",
    "df_test_cust['loan_defaulted'] = y_test\n",
    "df_test_cust['pred'] = pd.cut(p_test_pred_cust, 100)\n",
    "plt.figure(figsize=(15, 10))\n",
    "plt.title('Lift Chart of Customer Model', fontsize=12)\n",
    "df_test_cust.groupby('pred')['loan_defaulted'].mean().plot()"
   ]
  },
  {
   "cell_type": "markdown",
   "metadata": {},
   "source": [
    "Score the two models on all data"
   ]
  },
  {
   "cell_type": "code",
   "execution_count": null,
   "metadata": {},
   "outputs": [],
   "source": [
    "df = pd.concat([df, df_dum], axis=1, sort=False)\n",
    "df.reset_index(inplace=True, drop=True)\n",
    "df['loan_score'] = clf_loan.predict_proba(df[loan].values)[:, 1]\n",
    "df['cust_score'] = clf_cust.predict_proba(df[customer].values)[:, 1]"
   ]
  },
  {
   "cell_type": "markdown",
   "metadata": {},
   "source": [
    "Build a simple logistic regression on top of the two estimators for \"how risky this loan is?\" and \"how risky this customer is?\""
   ]
  },
  {
   "cell_type": "code",
   "execution_count": null,
   "metadata": {},
   "outputs": [],
   "source": [
    "lr = LogisticRegression(solver='lbfgs')\n",
    "\n",
    "X = df[['loan_score', 'cust_score']].values\n",
    "y = df['loan_defaulted'].values\n",
    "X_train, X_test, y_train, y_test = train_test_split(X, y, stratify=y, test_size=0.3, random_state=42)\n",
    "\n",
    "lr.fit(X_train, y_train)\n",
    "\n",
    "# Make prediction on the training data\n",
    "y_train_pred = lr.predict(X_train)\n",
    "p_train_pred = lr.predict_proba(X_train)[:, 1]\n",
    "# Make predictions on test data\n",
    "y_test_pred = lr.predict(X_test)\n",
    "p_test_pred = lr.predict_proba(X_test)[:, 1]"
   ]
  },
  {
   "cell_type": "markdown",
   "metadata": {},
   "source": [
    "Plot ROC curve"
   ]
  },
  {
   "cell_type": "code",
   "execution_count": null,
   "metadata": {},
   "outputs": [],
   "source": [
    "get_performance_metrics(y_train, p_train_pred, y_test, p_test_pred, threshold=0.5)\n",
    "plot_roc_curve(y_train, p_train_pred, y_test, p_test_pred)"
   ]
  },
  {
   "cell_type": "markdown",
   "metadata": {},
   "source": [
    "We can see a solid improvement just by looking at the ROC AUC score. "
   ]
  },
  {
   "cell_type": "markdown",
   "metadata": {},
   "source": [
    "Conclusion--\n",
    "I would assume this model can be used to estimate risks of future loans. The structure I set up above captures two parts of the risk. \"Is this customer a trust worthy customer?\" and \"Is this a high risk loan structure.\" <br>\n",
    "In general, higher risk customers would generate more income for Lending Club, but as for loan structure risk, LC should be careful giving out high risk loans to high risk customers. I would recommend similar to the loan grade, we cut customers into grade tiers as well and cross check how many loans falls into each bivariate bin. From their LC would be able to improve the credit estimation of future loans better. \n",
    "As for future works, I would hope to be given more data from more years where I can take into account the macroeconomic factors, or if I have access to monthly payment of current and past loans I'm able to learn more about the loans' lifecycle. "
   ]
  },
  {
   "cell_type": "markdown",
   "metadata": {},
   "source": [
    "#### Section C"
   ]
  },
  {
   "cell_type": "markdown",
   "metadata": {},
   "source": [
    "The topic I choose would be \"Decision Trees\""
   ]
  },
  {
   "cell_type": "markdown",
   "metadata": {},
   "source": [
    "#### a) Someone with significant mathematical experience."
   ]
  },
  {
   "cell_type": "markdown",
   "metadata": {},
   "source": [
    "Decision tree is a kind of decision making tool that we use to generate insights from data and make predictions. It is a flowchart like structure where the tree recursively \"ask\" True or False questions and make the decision accroding to the series of answers. <br>\n",
    "Take a binary classification as an example. The loss function we use in decision trees are often either entropy or gini, both of which measures the pureness of the data splited into two leaves. The loss function would be maximized if in a leaf half would be in class A and half would be in class B while it would be minimized if all of the data points are belong to one class. Eventually we would want each leaf to have only one kind of target variable. <br>\n",
    "For each question, the tree would seek to maximize the \"information gain\", which is simply the drop in entroy or gini loss. The algorithm would find the best cut off point of the best feature to provide the maximum information gain at the point. Notice that this would be a greedy algorithm, which means this would not find the global optimum. <br>\n",
    "Then the tree would recursively find the local optimum split points until each leaf only has one data point or an early stopping criteria is met. <br>\n",
    "The algorithm can not only be used as classification algorithm as discussed above, but also can be used as a regression algorithm where the predicted output of a data point would be the average value of all the data points belnging to that leaf. <br>\n",
    "The advantage of decision trees is that its totally understandable, it can give a clear explanation of why the output is what it is. Plus its is easy to train, prune to outlier and missing value. <br>\n",
    "Downside of decision trees is obvious as well. It is easy to overfit. Since if we do not define a early stopping criteria, then eventually the tree would grow so deep that each leaf has one data point, which would for sure minimize the error, but that would not generalize well. But on the other hand, a tree that is too shallow would not be powerful enough to caputure data insights. "
   ]
  },
  {
   "cell_type": "markdown",
   "metadata": {},
   "source": [
    "#### b) Someone with little mathematical experience."
   ]
  },
  {
   "cell_type": "markdown",
   "metadata": {},
   "source": [
    "Decision tree is a flowchart like decision making tool where it ask a series of questions to predict the outcome for events that havn't happened. <br>\n",
    "For example it we are to predict someone's gender from their height and weight, then the decision tree would be something like this. If height is higher than 6 ft, then its a male. If height is lower than 6 ft and weight is more than 140 lb, then is a male, and if weight is less than 140 lb its a girl. <br>\n",
    "This would be a simple example of how decision tree works. As you can see, with just a depth of two, meaning asking two questions to split the population, the outcome is not going to be very accurate. There will be males who are shorter than 6 ft and females that are taller. But generally, if someone is taller than 6 ft, its more than likely that it is a male. <br>\n",
    "So later on we are able to use this model to predict the target, in our case 'gender', given the features height and weight. "
   ]
  }
 ],
 "metadata": {
  "kernelspec": {
   "display_name": "Python 3",
   "language": "python",
   "name": "python3"
  },
  "language_info": {
   "codemirror_mode": {
    "name": "ipython",
    "version": 3
   },
   "file_extension": ".py",
   "mimetype": "text/x-python",
   "name": "python",
   "nbconvert_exporter": "python",
   "pygments_lexer": "ipython3",
   "version": "3.7.1"
  }
 },
 "nbformat": 4,
 "nbformat_minor": 2
}
